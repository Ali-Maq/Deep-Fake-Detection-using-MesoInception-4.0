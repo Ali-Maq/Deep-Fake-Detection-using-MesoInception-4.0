{
 "cells": [
  {
   "cell_type": "code",
   "execution_count": null,
   "metadata": {
    "id": "SSS5KYvRx0-o"
   },
   "outputs": [],
   "source": [
    "! pip install d2l==0.17.2\n",
    "! pip install torchvision\n",
    "! pip install torch-summary"
   ]
  },
  {
   "cell_type": "code",
   "execution_count": null,
   "metadata": {
    "colab": {
     "base_uri": "https://localhost:8080/"
    },
    "id": "pB4W_DyNWXfa",
    "outputId": "8a6344bf-975a-43ee-f572-bc5139224d66"
   },
   "outputs": [],
   "source": [
    "from google.colab import drive\n",
    "drive.mount('/content/drive')"
   ]
  },
  {
   "cell_type": "code",
   "execution_count": null,
   "metadata": {
    "colab": {
     "base_uri": "https://localhost:8080/"
    },
    "id": "J4gBDVNqJtzA",
    "outputId": "c8c7a2c6-1021-47e1-a02c-31a85db9968c"
   },
   "outputs": [],
   "source": [
    "!unzip '/content/drive/MyDrive/archive.zip'"
   ]
  },
  {
   "cell_type": "code",
   "execution_count": null,
   "metadata": {},
   "outputs": [],
   "source": [
    "!ls\n",
    "!unzip 'archive.zip'"
   ]
  },
  {
   "cell_type": "code",
   "execution_count": 2,
   "metadata": {
    "id": "7MeadUyjRglB"
   },
   "outputs": [],
   "source": [
    "import torch\n",
    "import torch.nn as nn\n",
    "import torchvision\n",
    "from torch.utils.data import DataLoader\n",
    "import torch.optim as optim\n",
    "from torch.optim import lr_scheduler\n",
    "import argparse\n",
    "import os\n",
    "from torchvision import datasets, models, transforms"
   ]
  },
  {
   "cell_type": "code",
   "execution_count": null,
   "metadata": {},
   "outputs": [],
   "source": [
    "!ls './deepfake_database/deepfake_database/train:test'"
   ]
  },
  {
   "cell_type": "code",
   "execution_count": 3,
   "metadata": {
    "id": "l_hsIFOpRdVV"
   },
   "outputs": [],
   "source": [
    "train_dataset = torchvision.datasets.ImageFolder('./deepfake_database/deepfake_database/train:test', transform=transforms.Compose([\n",
    "        transforms.Resize((256, 256)),\n",
    "        transforms.ToTensor(),\n",
    "        transforms.Normalize([0.5]*3, [0.5]*3)]))\n",
    "val_dataset = torchvision.datasets.ImageFolder('./deepfake_database/deepfake_database/validation', transforms.Compose([\n",
    "        transforms.Resize((256, 256)),\n",
    "        transforms.ToTensor(),\n",
    "        transforms.Normalize([0.5] * 3, [0.5] * 3)\n",
    "    ]))\n",
    "train_loader = torch.utils.data.DataLoader(train_dataset, batch_size=64, shuffle=True, drop_last=False, num_workers=2)\n",
    "val_loader = torch.utils.data.DataLoader(val_dataset, batch_size=64, shuffle=True, drop_last=False, num_workers=2)\n",
    "train_dataset_size = len(train_dataset)\n",
    "val_dataset_size = len(val_dataset)"
   ]
  },
  {
   "cell_type": "code",
   "execution_count": 4,
   "metadata": {
    "id": "_3pjykj_iSZ1"
   },
   "outputs": [],
   "source": [
    "import os\n",
    "import argparse\n",
    "\n",
    "\n",
    "import torch\n",
    "import torch.nn as nn\n",
    "import torch.nn.functional as F\n",
    "import math\n",
    "import torchvision\n",
    "\n",
    "class Meso4(nn.Module):\n",
    "\tdef __init__(self, num_classes=2):\n",
    "\t\tsuper(Meso4, self).__init__()\n",
    "\t\tself.num_classes = num_classes\n",
    "\t\tself.conv1 = nn.Conv2d(3, 8, 3, padding=1, bias=False)\n",
    "\t\tself.bn1 = nn.BatchNorm2d(8)\n",
    "\t\tself.relu = nn.ReLU(inplace=True)\n",
    "\t\tself.leakyrelu = nn.LeakyReLU(0.1)\n",
    "\n",
    "\t\tself.conv2 = nn.Conv2d(8, 8, 5, padding=2, bias=False)\n",
    "\t\tself.bn2 = nn.BatchNorm2d(16)\n",
    "\t\tself.conv3 = nn.Conv2d(8, 16, 5, padding=2, bias=False)\n",
    "\t\tself.conv4 = nn.Conv2d(16, 16, 5, padding=2, bias=False)\n",
    "\t\tself.maxpooling1 = nn.MaxPool2d(kernel_size=(2, 2))\n",
    "\t\tself.maxpooling2 = nn.MaxPool2d(kernel_size=(4, 4))\n",
    "\t\t#flatten: x = x.view(x.size(0), -1)\n",
    "\t\tself.dropout = nn.Dropout2d(0.5)\n",
    "\t\tself.fc1 = nn.Linear(16*8*8, 16)\n",
    "\t\tself.fc2 = nn.Linear(16, num_classes)\n",
    "\n",
    "\tdef forward(self, input):\n",
    "\t\tx = self.conv1(input) #(8, 256, 256)\n",
    "\t\tx = self.relu(x)\n",
    "\t\tx = self.bn1(x)\n",
    "\t\tx = self.maxpooling1(x) #(8, 128, 128)\n",
    "\n",
    "\t\tx = self.conv2(x) #(8, 128, 128)\n",
    "\t\tx = self.relu(x)\n",
    "\t\tx = self.bn1(x)\n",
    "\t\tx = self.maxpooling1(x) #(8, 64, 64)\n",
    "\n",
    "\t\tx = self.conv3(x) #(16, 64, 64)\n",
    "\t\tx = self.relu(x)\n",
    "\t\tx = self.bn2(x)\n",
    "\t\tx = self.maxpooling1(x) #(16, 32, 32)\n",
    "\n",
    "\t\tx = self.conv4(x) #(16, 32, 32)\n",
    "\t\tx = self.relu(x)\n",
    "\t\tx = self.bn2(x)\n",
    "\t\tx = self.maxpooling2(x) #(16, 8, 8)\n",
    "\n",
    "\t\tx = x.view(x.size(0), -1) #(Batch, 16*8*8)\n",
    "\t\tx = self.dropout(x)\n",
    "\t\tx = self.fc1(x) #(Batch, 16)\n",
    "\t\tx = self.leakyrelu(x)\n",
    "\t\tx = self.dropout(x)\n",
    "\t\tx = self.fc2(x)\n",
    "\n",
    "\t\treturn x\n",
    "\n",
    "\n",
    "class MesoInception4(nn.Module):\n",
    "\tdef __init__(self, num_classes=2):\n",
    "\t\tsuper(MesoInception4, self).__init__()\n",
    "\t\tself.num_classes = num_classes\n",
    "\t\t#InceptionLayer1\n",
    "\t\tself.Incption1_conv1 = nn.Conv2d(3, 1, 1, padding=0, bias=False)\n",
    "\t\tself.Incption1_conv2_1 = nn.Conv2d(3, 4, 1, padding=0, bias=False)\n",
    "\t\tself.Incption1_conv2_2 = nn.Conv2d(4, 4, 3, padding=1, bias=False)\n",
    "\t\tself.Incption1_conv3_1 = nn.Conv2d(3, 4, 1, padding=0, bias=False)\n",
    "\t\tself.Incption1_conv3_2 = nn.Conv2d(4, 4, 3, padding=2, dilation=2, bias=False)\n",
    "\t\tself.Incption1_conv4_1 = nn.Conv2d(3, 2, 1, padding=0, bias=False)\n",
    "\t\tself.Incption1_conv4_2 = nn.Conv2d(2, 2, 3, padding=3, dilation=3, bias=False)\n",
    "\t\tself.Incption1_bn = nn.BatchNorm2d(11)\n",
    "\n",
    "\n",
    "\t\t#InceptionLayer2\n",
    "\t\tself.Incption2_conv1 = nn.Conv2d(11, 2, 1, padding=0, bias=False)\n",
    "\t\tself.Incption2_conv2_1 = nn.Conv2d(11, 4, 1, padding=0, bias=False)\n",
    "\t\tself.Incption2_conv2_2 = nn.Conv2d(4, 4, 3, padding=1, bias=False)\n",
    "\t\tself.Incption2_conv3_1 = nn.Conv2d(11, 4, 1, padding=0, bias=False)\n",
    "\t\tself.Incption2_conv3_2 = nn.Conv2d(4, 4, 3, padding=2, dilation=2, bias=False)\n",
    "\t\tself.Incption2_conv4_1 = nn.Conv2d(11, 2, 1, padding=0, bias=False)\n",
    "\t\tself.Incption2_conv4_2 = nn.Conv2d(2, 2, 3, padding=3, dilation=3, bias=False)\n",
    "\t\tself.Incption2_bn = nn.BatchNorm2d(12)\n",
    "\n",
    "\t\t#Normal Layer\n",
    "\t\tself.conv1 = nn.Conv2d(12, 16, 5, padding=2, bias=False)\n",
    "\t\tself.relu = nn.ReLU(inplace=True)\n",
    "\t\tself.leakyrelu = nn.LeakyReLU(0.1)\n",
    "\t\tself.bn1 = nn.BatchNorm2d(16)\n",
    "\t\tself.maxpooling1 = nn.MaxPool2d(kernel_size=(2, 2))\n",
    "\n",
    "\t\tself.conv2 = nn.Conv2d(16, 16, 5, padding=2, bias=False)\n",
    "\t\tself.maxpooling2 = nn.MaxPool2d(kernel_size=(4, 4))\n",
    "\n",
    "\t\tself.dropout = nn.Dropout2d(0.5)\n",
    "\t\tself.fc1 = nn.Linear(16*8*8, 16)\n",
    "\t\tself.fc2 = nn.Linear(16, num_classes)\n",
    "\n",
    "\n",
    "\t#InceptionLayer\n",
    "\tdef InceptionLayer1(self, input):\n",
    "\t\tx1 = self.Incption1_conv1(input)\n",
    "\t\tx2 = self.Incption1_conv2_1(input)\n",
    "\t\tx2 = self.Incption1_conv2_2(x2)\n",
    "\t\tx3 = self.Incption1_conv3_1(input)\n",
    "\t\tx3 = self.Incption1_conv3_2(x3)\n",
    "\t\tx4 = self.Incption1_conv4_1(input)\n",
    "\t\tx4 = self.Incption1_conv4_2(x4)\n",
    "\t\ty = torch.cat((x1, x2, x3, x4), 1)\n",
    "\t\ty = self.Incption1_bn(y)\n",
    "\t\ty = self.maxpooling1(y)\n",
    "\n",
    "\t\treturn y\n",
    "\n",
    "\tdef InceptionLayer2(self, input):\n",
    "\t\tx1 = self.Incption2_conv1(input)\n",
    "\t\tx2 = self.Incption2_conv2_1(input)\n",
    "\t\tx2 = self.Incption2_conv2_2(x2)\n",
    "\t\tx3 = self.Incption2_conv3_1(input)\n",
    "\t\tx3 = self.Incption2_conv3_2(x3)\n",
    "\t\tx4 = self.Incption2_conv4_1(input)\n",
    "\t\tx4 = self.Incption2_conv4_2(x4)\n",
    "\t\ty = torch.cat((x1, x2, x3, x4), 1)\n",
    "\t\ty = self.Incption2_bn(y)\n",
    "\t\ty = self.maxpooling1(y)\n",
    "\n",
    "\t\treturn y\n",
    "\n",
    "\tdef forward(self, input):\n",
    "\t\tx = self.InceptionLayer1(input) #(Batch, 11, 128, 128)\n",
    "\t\tx = self.InceptionLayer2(x) #(Batch, 12, 64, 64)\n",
    "\n",
    "\t\tx = self.conv1(x) #(Batch, 16, 64 ,64)\n",
    "\t\tx = self.relu(x)\n",
    "\t\tx = self.bn1(x)\n",
    "\t\tx = self.maxpooling1(x) #(Batch, 16, 32, 32)\n",
    "\n",
    "\t\tx = self.conv2(x) #(Batch, 16, 32, 32)\n",
    "\t\tx = self.relu(x)\n",
    "\t\tx = self.bn1(x)\n",
    "\t\tx = self.maxpooling2(x) #(Batch, 16, 8, 8)\n",
    "\n",
    "\t\tx = x.view(x.size(0), -1) #(Batch, 16*8*8)\n",
    "\t\tx = self.dropout(x)\n",
    "\t\tx = self.fc1(x) #(Batch, 16)\n",
    "\t\tx = self.leakyrelu(x)\n",
    "\t\tx = self.dropout(x)\n",
    "\t\tx = self.fc2(x)\n",
    "\n",
    "\t\treturn x\n",
    "\n"
   ]
  },
  {
   "cell_type": "code",
   "execution_count": 19,
   "metadata": {
    "id": "xIvS0_ZfCpme"
   },
   "outputs": [
    {
     "name": "stdout",
     "output_type": "stream",
     "text": [
      "<class 'dict'>\n",
      "dict_keys(['train', 'test'])\n"
     ]
    }
   ],
   "source": [
    "model = MesoInception4()\n",
    "model = model.cuda()\n",
    "criterion = nn.CrossEntropyLoss()\n",
    "optimizer = optim.Adam(model.parameters(), lr=0.001, betas=(0.9, 0.999), eps=1e-08)\n",
    "scheduler = lr_scheduler.StepLR(optimizer, step_size=5, gamma=0.5)\n",
    "model = nn.DataParallel(model)\n",
    "save_loss = {'train':[], 'test':[]}\n",
    "save_acc = {'train':[], 'test':[]}\n",
    "print(type(save_loss))\n",
    "print(save_loss.keys())"
   ]
  },
  {
   "cell_type": "code",
   "execution_count": 16,
   "metadata": {
    "colab": {
     "background_save": true,
     "base_uri": "https://localhost:8080/"
    },
    "id": "2s5xxxYTC9F1",
    "outputId": "f5b8426d-03c5-40e4-9c5a-b48f90ca5f9f"
   },
   "outputs": [
    {
     "name": "stdout",
     "output_type": "stream",
     "text": [
      "Epoch 1/15\n",
      "----------\n",
      "iteration 20 train loss: 0.0115 Acc: 0.4375\n",
      "iteration 40 train loss: 0.0101 Acc: 0.5000\n",
      "iteration 60 train loss: 0.0099 Acc: 0.6562\n",
      "iteration 80 train loss: 0.0091 Acc: 0.7656\n",
      "iteration 100 train loss: 0.0091 Acc: 0.6406\n",
      "iteration 120 train loss: 0.0092 Acc: 0.6875\n",
      "iteration 140 train loss: 0.0088 Acc: 0.6875\n",
      "iteration 160 train loss: 0.0089 Acc: 0.7031\n",
      "iteration 180 train loss: 0.0100 Acc: 0.5938\n",
      "epoch train loss: 0.0096 Acc: 0.6135\n",
      "epoch val loss: 0.0083 Acc: 0.7615\n",
      "Epoch 2/15\n",
      "----------\n",
      "iteration 200 train loss: 0.0099 Acc: 0.5938\n",
      "iteration 220 train loss: 0.0080 Acc: 0.7500\n",
      "iteration 240 train loss: 0.0086 Acc: 0.6875\n",
      "iteration 260 train loss: 0.0087 Acc: 0.7188\n",
      "iteration 280 train loss: 0.0090 Acc: 0.6406\n",
      "iteration 300 train loss: 0.0091 Acc: 0.6562\n",
      "iteration 320 train loss: 0.0093 Acc: 0.6562\n",
      "iteration 340 train loss: 0.0084 Acc: 0.6094\n",
      "iteration 360 train loss: 0.0089 Acc: 0.7656\n",
      "iteration 380 train loss: 0.0089 Acc: 0.6719\n",
      "epoch train loss: 0.0089 Acc: 0.6672\n",
      "epoch val loss: 0.0071 Acc: 0.8417\n",
      "Epoch 3/15\n",
      "----------\n",
      "iteration 400 train loss: 0.0086 Acc: 0.6406\n",
      "iteration 420 train loss: 0.0079 Acc: 0.6719\n",
      "iteration 440 train loss: 0.0091 Acc: 0.6562\n",
      "iteration 460 train loss: 0.0092 Acc: 0.6250\n",
      "iteration 480 train loss: 0.0086 Acc: 0.6406\n",
      "iteration 500 train loss: 0.0093 Acc: 0.6719\n",
      "iteration 520 train loss: 0.0083 Acc: 0.6406\n",
      "iteration 540 train loss: 0.0084 Acc: 0.6875\n",
      "iteration 560 train loss: 0.0079 Acc: 0.7188\n",
      "iteration 580 train loss: 0.0090 Acc: 0.5938\n",
      "epoch train loss: 0.0088 Acc: 0.6698\n",
      "epoch val loss: 0.0088 Acc: 0.7083\n",
      "Epoch 4/15\n",
      "----------\n",
      "iteration 600 train loss: 0.0090 Acc: 0.5938\n",
      "iteration 620 train loss: 0.0095 Acc: 0.6250\n",
      "iteration 640 train loss: 0.0084 Acc: 0.7031\n",
      "iteration 660 train loss: 0.0095 Acc: 0.5938\n",
      "iteration 680 train loss: 0.0088 Acc: 0.5781\n",
      "iteration 700 train loss: 0.0089 Acc: 0.6250\n",
      "iteration 720 train loss: 0.0086 Acc: 0.6719\n",
      "iteration 740 train loss: 0.0087 Acc: 0.6719\n",
      "iteration 760 train loss: 0.0074 Acc: 0.7656\n",
      "epoch train loss: 0.0086 Acc: 0.6715\n",
      "epoch val loss: 0.0072 Acc: 0.8037\n",
      "Epoch 5/15\n",
      "----------\n",
      "iteration 780 train loss: 0.0091 Acc: 0.6250\n",
      "iteration 800 train loss: 0.0087 Acc: 0.7031\n",
      "iteration 820 train loss: 0.0085 Acc: 0.6406\n",
      "iteration 840 train loss: 0.0080 Acc: 0.6094\n",
      "iteration 860 train loss: 0.0101 Acc: 0.5156\n",
      "iteration 880 train loss: 0.0080 Acc: 0.6875\n",
      "iteration 900 train loss: 0.0083 Acc: 0.6875\n",
      "iteration 920 train loss: 0.0082 Acc: 0.6406\n",
      "iteration 940 train loss: 0.0075 Acc: 0.7500\n",
      "iteration 960 train loss: 0.0087 Acc: 0.5781\n",
      "epoch train loss: 0.0084 Acc: 0.6806\n",
      "epoch val loss: 0.0067 Acc: 0.8145\n",
      "Epoch 6/15\n",
      "----------\n",
      "iteration 980 train loss: 0.0086 Acc: 0.5938\n",
      "iteration 1000 train loss: 0.0082 Acc: 0.6562\n",
      "iteration 1020 train loss: 0.0092 Acc: 0.5938\n",
      "iteration 1040 train loss: 0.0086 Acc: 0.7031\n",
      "iteration 1060 train loss: 0.0064 Acc: 0.7812\n",
      "iteration 1080 train loss: 0.0083 Acc: 0.7656\n",
      "iteration 1100 train loss: 0.0079 Acc: 0.6875\n",
      "iteration 1120 train loss: 0.0064 Acc: 0.8125\n",
      "iteration 1140 train loss: 0.0073 Acc: 0.7344\n",
      "iteration 1160 train loss: 0.0079 Acc: 0.7344\n",
      "epoch train loss: 0.0084 Acc: 0.6802\n",
      "epoch val loss: 0.0050 Acc: 0.8858\n",
      "Epoch 7/15\n",
      "----------\n",
      "iteration 1180 train loss: 0.0079 Acc: 0.6406\n",
      "iteration 1200 train loss: 0.0078 Acc: 0.7969\n",
      "iteration 1220 train loss: 0.0087 Acc: 0.6406\n",
      "iteration 1240 train loss: 0.0076 Acc: 0.6875\n",
      "iteration 1260 train loss: 0.0091 Acc: 0.5938\n",
      "iteration 1280 train loss: 0.0081 Acc: 0.6875\n",
      "iteration 1300 train loss: 0.0079 Acc: 0.6875\n",
      "iteration 1320 train loss: 0.0091 Acc: 0.5781\n",
      "iteration 1340 train loss: 0.0080 Acc: 0.6719\n",
      "epoch train loss: 0.0082 Acc: 0.6860\n",
      "epoch val loss: 0.0054 Acc: 0.8661\n",
      "Epoch 8/15\n",
      "----------\n",
      "iteration 1360 train loss: 0.0081 Acc: 0.7031\n"
     ]
    },
    {
     "ename": "KeyboardInterrupt",
     "evalue": "",
     "output_type": "error",
     "traceback": [
      "\u001b[0;31m---------------------------------------------------------------------------\u001b[0m",
      "\u001b[0;31mKeyboardInterrupt\u001b[0m                         Traceback (most recent call last)",
      "\u001b[0;32m<ipython-input-16-702f702e8a3e>\u001b[0m in \u001b[0;36m<module>\u001b[0;34m\u001b[0m\n\u001b[1;32m     13\u001b[0m     \u001b[0mval_loss\u001b[0m \u001b[0;34m=\u001b[0m \u001b[0;36m0.0\u001b[0m\u001b[0;34m\u001b[0m\u001b[0;34m\u001b[0m\u001b[0m\n\u001b[1;32m     14\u001b[0m     \u001b[0mval_corrects\u001b[0m \u001b[0;34m=\u001b[0m \u001b[0;36m0.0\u001b[0m\u001b[0;34m\u001b[0m\u001b[0;34m\u001b[0m\u001b[0m\n\u001b[0;32m---> 15\u001b[0;31m     \u001b[0;32mfor\u001b[0m \u001b[0;34m(\u001b[0m\u001b[0mimage\u001b[0m\u001b[0;34m,\u001b[0m \u001b[0mlabels\u001b[0m\u001b[0;34m)\u001b[0m \u001b[0;32min\u001b[0m \u001b[0mtrain_loader\u001b[0m\u001b[0;34m:\u001b[0m\u001b[0;34m\u001b[0m\u001b[0;34m\u001b[0m\u001b[0m\n\u001b[0m\u001b[1;32m     16\u001b[0m         \u001b[0miter_loss\u001b[0m \u001b[0;34m=\u001b[0m \u001b[0;36m0.0\u001b[0m\u001b[0;34m\u001b[0m\u001b[0;34m\u001b[0m\u001b[0m\n\u001b[1;32m     17\u001b[0m         \u001b[0miter_corrects\u001b[0m \u001b[0;34m=\u001b[0m \u001b[0;36m0.0\u001b[0m\u001b[0;34m\u001b[0m\u001b[0;34m\u001b[0m\u001b[0m\n",
      "\u001b[0;32m~/.local/lib/python3.8/site-packages/torch/utils/data/dataloader.py\u001b[0m in \u001b[0;36m__next__\u001b[0;34m(self)\u001b[0m\n\u001b[1;32m    528\u001b[0m             \u001b[0;32mif\u001b[0m \u001b[0mself\u001b[0m\u001b[0;34m.\u001b[0m\u001b[0m_sampler_iter\u001b[0m \u001b[0;32mis\u001b[0m \u001b[0;32mNone\u001b[0m\u001b[0;34m:\u001b[0m\u001b[0;34m\u001b[0m\u001b[0;34m\u001b[0m\u001b[0m\n\u001b[1;32m    529\u001b[0m                 \u001b[0mself\u001b[0m\u001b[0;34m.\u001b[0m\u001b[0m_reset\u001b[0m\u001b[0;34m(\u001b[0m\u001b[0;34m)\u001b[0m\u001b[0;34m\u001b[0m\u001b[0;34m\u001b[0m\u001b[0m\n\u001b[0;32m--> 530\u001b[0;31m             \u001b[0mdata\u001b[0m \u001b[0;34m=\u001b[0m \u001b[0mself\u001b[0m\u001b[0;34m.\u001b[0m\u001b[0m_next_data\u001b[0m\u001b[0;34m(\u001b[0m\u001b[0;34m)\u001b[0m\u001b[0;34m\u001b[0m\u001b[0;34m\u001b[0m\u001b[0m\n\u001b[0m\u001b[1;32m    531\u001b[0m             \u001b[0mself\u001b[0m\u001b[0;34m.\u001b[0m\u001b[0m_num_yielded\u001b[0m \u001b[0;34m+=\u001b[0m \u001b[0;36m1\u001b[0m\u001b[0;34m\u001b[0m\u001b[0;34m\u001b[0m\u001b[0m\n\u001b[1;32m    532\u001b[0m             \u001b[0;32mif\u001b[0m \u001b[0mself\u001b[0m\u001b[0;34m.\u001b[0m\u001b[0m_dataset_kind\u001b[0m \u001b[0;34m==\u001b[0m \u001b[0m_DatasetKind\u001b[0m\u001b[0;34m.\u001b[0m\u001b[0mIterable\u001b[0m \u001b[0;32mand\u001b[0m\u001b[0;31m \u001b[0m\u001b[0;31m\\\u001b[0m\u001b[0;34m\u001b[0m\u001b[0;34m\u001b[0m\u001b[0m\n",
      "\u001b[0;32m~/.local/lib/python3.8/site-packages/torch/utils/data/dataloader.py\u001b[0m in \u001b[0;36m_next_data\u001b[0;34m(self)\u001b[0m\n\u001b[1;32m   1205\u001b[0m \u001b[0;34m\u001b[0m\u001b[0m\n\u001b[1;32m   1206\u001b[0m             \u001b[0;32massert\u001b[0m \u001b[0;32mnot\u001b[0m \u001b[0mself\u001b[0m\u001b[0;34m.\u001b[0m\u001b[0m_shutdown\u001b[0m \u001b[0;32mand\u001b[0m \u001b[0mself\u001b[0m\u001b[0;34m.\u001b[0m\u001b[0m_tasks_outstanding\u001b[0m \u001b[0;34m>\u001b[0m \u001b[0;36m0\u001b[0m\u001b[0;34m\u001b[0m\u001b[0;34m\u001b[0m\u001b[0m\n\u001b[0;32m-> 1207\u001b[0;31m             \u001b[0midx\u001b[0m\u001b[0;34m,\u001b[0m \u001b[0mdata\u001b[0m \u001b[0;34m=\u001b[0m \u001b[0mself\u001b[0m\u001b[0;34m.\u001b[0m\u001b[0m_get_data\u001b[0m\u001b[0;34m(\u001b[0m\u001b[0;34m)\u001b[0m\u001b[0;34m\u001b[0m\u001b[0;34m\u001b[0m\u001b[0m\n\u001b[0m\u001b[1;32m   1208\u001b[0m             \u001b[0mself\u001b[0m\u001b[0;34m.\u001b[0m\u001b[0m_tasks_outstanding\u001b[0m \u001b[0;34m-=\u001b[0m \u001b[0;36m1\u001b[0m\u001b[0;34m\u001b[0m\u001b[0;34m\u001b[0m\u001b[0m\n\u001b[1;32m   1209\u001b[0m             \u001b[0;32mif\u001b[0m \u001b[0mself\u001b[0m\u001b[0;34m.\u001b[0m\u001b[0m_dataset_kind\u001b[0m \u001b[0;34m==\u001b[0m \u001b[0m_DatasetKind\u001b[0m\u001b[0;34m.\u001b[0m\u001b[0mIterable\u001b[0m\u001b[0;34m:\u001b[0m\u001b[0;34m\u001b[0m\u001b[0;34m\u001b[0m\u001b[0m\n",
      "\u001b[0;32m~/.local/lib/python3.8/site-packages/torch/utils/data/dataloader.py\u001b[0m in \u001b[0;36m_get_data\u001b[0;34m(self)\u001b[0m\n\u001b[1;32m   1171\u001b[0m         \u001b[0;32melse\u001b[0m\u001b[0;34m:\u001b[0m\u001b[0;34m\u001b[0m\u001b[0;34m\u001b[0m\u001b[0m\n\u001b[1;32m   1172\u001b[0m             \u001b[0;32mwhile\u001b[0m \u001b[0;32mTrue\u001b[0m\u001b[0;34m:\u001b[0m\u001b[0;34m\u001b[0m\u001b[0;34m\u001b[0m\u001b[0m\n\u001b[0;32m-> 1173\u001b[0;31m                 \u001b[0msuccess\u001b[0m\u001b[0;34m,\u001b[0m \u001b[0mdata\u001b[0m \u001b[0;34m=\u001b[0m \u001b[0mself\u001b[0m\u001b[0;34m.\u001b[0m\u001b[0m_try_get_data\u001b[0m\u001b[0;34m(\u001b[0m\u001b[0;34m)\u001b[0m\u001b[0;34m\u001b[0m\u001b[0;34m\u001b[0m\u001b[0m\n\u001b[0m\u001b[1;32m   1174\u001b[0m                 \u001b[0;32mif\u001b[0m \u001b[0msuccess\u001b[0m\u001b[0;34m:\u001b[0m\u001b[0;34m\u001b[0m\u001b[0;34m\u001b[0m\u001b[0m\n\u001b[1;32m   1175\u001b[0m                     \u001b[0;32mreturn\u001b[0m \u001b[0mdata\u001b[0m\u001b[0;34m\u001b[0m\u001b[0;34m\u001b[0m\u001b[0m\n",
      "\u001b[0;32m~/.local/lib/python3.8/site-packages/torch/utils/data/dataloader.py\u001b[0m in \u001b[0;36m_try_get_data\u001b[0;34m(self, timeout)\u001b[0m\n\u001b[1;32m   1009\u001b[0m         \u001b[0;31m#   (bool: whether successfully get data, any: data if successful else None)\u001b[0m\u001b[0;34m\u001b[0m\u001b[0;34m\u001b[0m\u001b[0;34m\u001b[0m\u001b[0m\n\u001b[1;32m   1010\u001b[0m         \u001b[0;32mtry\u001b[0m\u001b[0;34m:\u001b[0m\u001b[0;34m\u001b[0m\u001b[0;34m\u001b[0m\u001b[0m\n\u001b[0;32m-> 1011\u001b[0;31m             \u001b[0mdata\u001b[0m \u001b[0;34m=\u001b[0m \u001b[0mself\u001b[0m\u001b[0;34m.\u001b[0m\u001b[0m_data_queue\u001b[0m\u001b[0;34m.\u001b[0m\u001b[0mget\u001b[0m\u001b[0;34m(\u001b[0m\u001b[0mtimeout\u001b[0m\u001b[0;34m=\u001b[0m\u001b[0mtimeout\u001b[0m\u001b[0;34m)\u001b[0m\u001b[0;34m\u001b[0m\u001b[0;34m\u001b[0m\u001b[0m\n\u001b[0m\u001b[1;32m   1012\u001b[0m             \u001b[0;32mreturn\u001b[0m \u001b[0;34m(\u001b[0m\u001b[0;32mTrue\u001b[0m\u001b[0;34m,\u001b[0m \u001b[0mdata\u001b[0m\u001b[0;34m)\u001b[0m\u001b[0;34m\u001b[0m\u001b[0;34m\u001b[0m\u001b[0m\n\u001b[1;32m   1013\u001b[0m         \u001b[0;32mexcept\u001b[0m \u001b[0mException\u001b[0m \u001b[0;32mas\u001b[0m \u001b[0me\u001b[0m\u001b[0;34m:\u001b[0m\u001b[0;34m\u001b[0m\u001b[0;34m\u001b[0m\u001b[0m\n",
      "\u001b[0;32m/share/apps/python/3.8.6/intel/lib/python3.8/multiprocessing/queues.py\u001b[0m in \u001b[0;36mget\u001b[0;34m(self, block, timeout)\u001b[0m\n\u001b[1;32m    105\u001b[0m                 \u001b[0;32mif\u001b[0m \u001b[0mblock\u001b[0m\u001b[0;34m:\u001b[0m\u001b[0;34m\u001b[0m\u001b[0;34m\u001b[0m\u001b[0m\n\u001b[1;32m    106\u001b[0m                     \u001b[0mtimeout\u001b[0m \u001b[0;34m=\u001b[0m \u001b[0mdeadline\u001b[0m \u001b[0;34m-\u001b[0m \u001b[0mtime\u001b[0m\u001b[0;34m.\u001b[0m\u001b[0mmonotonic\u001b[0m\u001b[0;34m(\u001b[0m\u001b[0;34m)\u001b[0m\u001b[0;34m\u001b[0m\u001b[0;34m\u001b[0m\u001b[0m\n\u001b[0;32m--> 107\u001b[0;31m                     \u001b[0;32mif\u001b[0m \u001b[0;32mnot\u001b[0m \u001b[0mself\u001b[0m\u001b[0;34m.\u001b[0m\u001b[0m_poll\u001b[0m\u001b[0;34m(\u001b[0m\u001b[0mtimeout\u001b[0m\u001b[0;34m)\u001b[0m\u001b[0;34m:\u001b[0m\u001b[0;34m\u001b[0m\u001b[0;34m\u001b[0m\u001b[0m\n\u001b[0m\u001b[1;32m    108\u001b[0m                         \u001b[0;32mraise\u001b[0m \u001b[0mEmpty\u001b[0m\u001b[0;34m\u001b[0m\u001b[0;34m\u001b[0m\u001b[0m\n\u001b[1;32m    109\u001b[0m                 \u001b[0;32melif\u001b[0m \u001b[0;32mnot\u001b[0m \u001b[0mself\u001b[0m\u001b[0;34m.\u001b[0m\u001b[0m_poll\u001b[0m\u001b[0;34m(\u001b[0m\u001b[0;34m)\u001b[0m\u001b[0;34m:\u001b[0m\u001b[0;34m\u001b[0m\u001b[0;34m\u001b[0m\u001b[0m\n",
      "\u001b[0;32m/share/apps/python/3.8.6/intel/lib/python3.8/multiprocessing/connection.py\u001b[0m in \u001b[0;36mpoll\u001b[0;34m(self, timeout)\u001b[0m\n\u001b[1;32m    255\u001b[0m         \u001b[0mself\u001b[0m\u001b[0;34m.\u001b[0m\u001b[0m_check_closed\u001b[0m\u001b[0;34m(\u001b[0m\u001b[0;34m)\u001b[0m\u001b[0;34m\u001b[0m\u001b[0;34m\u001b[0m\u001b[0m\n\u001b[1;32m    256\u001b[0m         \u001b[0mself\u001b[0m\u001b[0;34m.\u001b[0m\u001b[0m_check_readable\u001b[0m\u001b[0;34m(\u001b[0m\u001b[0;34m)\u001b[0m\u001b[0;34m\u001b[0m\u001b[0;34m\u001b[0m\u001b[0m\n\u001b[0;32m--> 257\u001b[0;31m         \u001b[0;32mreturn\u001b[0m \u001b[0mself\u001b[0m\u001b[0;34m.\u001b[0m\u001b[0m_poll\u001b[0m\u001b[0;34m(\u001b[0m\u001b[0mtimeout\u001b[0m\u001b[0;34m)\u001b[0m\u001b[0;34m\u001b[0m\u001b[0;34m\u001b[0m\u001b[0m\n\u001b[0m\u001b[1;32m    258\u001b[0m \u001b[0;34m\u001b[0m\u001b[0m\n\u001b[1;32m    259\u001b[0m     \u001b[0;32mdef\u001b[0m \u001b[0m__enter__\u001b[0m\u001b[0;34m(\u001b[0m\u001b[0mself\u001b[0m\u001b[0;34m)\u001b[0m\u001b[0;34m:\u001b[0m\u001b[0;34m\u001b[0m\u001b[0;34m\u001b[0m\u001b[0m\n",
      "\u001b[0;32m/share/apps/python/3.8.6/intel/lib/python3.8/multiprocessing/connection.py\u001b[0m in \u001b[0;36m_poll\u001b[0;34m(self, timeout)\u001b[0m\n\u001b[1;32m    422\u001b[0m \u001b[0;34m\u001b[0m\u001b[0m\n\u001b[1;32m    423\u001b[0m     \u001b[0;32mdef\u001b[0m \u001b[0m_poll\u001b[0m\u001b[0;34m(\u001b[0m\u001b[0mself\u001b[0m\u001b[0;34m,\u001b[0m \u001b[0mtimeout\u001b[0m\u001b[0;34m)\u001b[0m\u001b[0;34m:\u001b[0m\u001b[0;34m\u001b[0m\u001b[0;34m\u001b[0m\u001b[0m\n\u001b[0;32m--> 424\u001b[0;31m         \u001b[0mr\u001b[0m \u001b[0;34m=\u001b[0m \u001b[0mwait\u001b[0m\u001b[0;34m(\u001b[0m\u001b[0;34m[\u001b[0m\u001b[0mself\u001b[0m\u001b[0;34m]\u001b[0m\u001b[0;34m,\u001b[0m \u001b[0mtimeout\u001b[0m\u001b[0;34m)\u001b[0m\u001b[0;34m\u001b[0m\u001b[0;34m\u001b[0m\u001b[0m\n\u001b[0m\u001b[1;32m    425\u001b[0m         \u001b[0;32mreturn\u001b[0m \u001b[0mbool\u001b[0m\u001b[0;34m(\u001b[0m\u001b[0mr\u001b[0m\u001b[0;34m)\u001b[0m\u001b[0;34m\u001b[0m\u001b[0;34m\u001b[0m\u001b[0m\n\u001b[1;32m    426\u001b[0m \u001b[0;34m\u001b[0m\u001b[0m\n",
      "\u001b[0;32m/share/apps/python/3.8.6/intel/lib/python3.8/multiprocessing/connection.py\u001b[0m in \u001b[0;36mwait\u001b[0;34m(object_list, timeout)\u001b[0m\n\u001b[1;32m    929\u001b[0m \u001b[0;34m\u001b[0m\u001b[0m\n\u001b[1;32m    930\u001b[0m             \u001b[0;32mwhile\u001b[0m \u001b[0;32mTrue\u001b[0m\u001b[0;34m:\u001b[0m\u001b[0;34m\u001b[0m\u001b[0;34m\u001b[0m\u001b[0m\n\u001b[0;32m--> 931\u001b[0;31m                 \u001b[0mready\u001b[0m \u001b[0;34m=\u001b[0m \u001b[0mselector\u001b[0m\u001b[0;34m.\u001b[0m\u001b[0mselect\u001b[0m\u001b[0;34m(\u001b[0m\u001b[0mtimeout\u001b[0m\u001b[0;34m)\u001b[0m\u001b[0;34m\u001b[0m\u001b[0;34m\u001b[0m\u001b[0m\n\u001b[0m\u001b[1;32m    932\u001b[0m                 \u001b[0;32mif\u001b[0m \u001b[0mready\u001b[0m\u001b[0;34m:\u001b[0m\u001b[0;34m\u001b[0m\u001b[0;34m\u001b[0m\u001b[0m\n\u001b[1;32m    933\u001b[0m                     \u001b[0;32mreturn\u001b[0m \u001b[0;34m[\u001b[0m\u001b[0mkey\u001b[0m\u001b[0;34m.\u001b[0m\u001b[0mfileobj\u001b[0m \u001b[0;32mfor\u001b[0m \u001b[0;34m(\u001b[0m\u001b[0mkey\u001b[0m\u001b[0;34m,\u001b[0m \u001b[0mevents\u001b[0m\u001b[0;34m)\u001b[0m \u001b[0;32min\u001b[0m \u001b[0mready\u001b[0m\u001b[0;34m]\u001b[0m\u001b[0;34m\u001b[0m\u001b[0;34m\u001b[0m\u001b[0m\n",
      "\u001b[0;32m/share/apps/python/3.8.6/intel/lib/python3.8/selectors.py\u001b[0m in \u001b[0;36mselect\u001b[0;34m(self, timeout)\u001b[0m\n\u001b[1;32m    413\u001b[0m         \u001b[0mready\u001b[0m \u001b[0;34m=\u001b[0m \u001b[0;34m[\u001b[0m\u001b[0;34m]\u001b[0m\u001b[0;34m\u001b[0m\u001b[0;34m\u001b[0m\u001b[0m\n\u001b[1;32m    414\u001b[0m         \u001b[0;32mtry\u001b[0m\u001b[0;34m:\u001b[0m\u001b[0;34m\u001b[0m\u001b[0;34m\u001b[0m\u001b[0m\n\u001b[0;32m--> 415\u001b[0;31m             \u001b[0mfd_event_list\u001b[0m \u001b[0;34m=\u001b[0m \u001b[0mself\u001b[0m\u001b[0;34m.\u001b[0m\u001b[0m_selector\u001b[0m\u001b[0;34m.\u001b[0m\u001b[0mpoll\u001b[0m\u001b[0;34m(\u001b[0m\u001b[0mtimeout\u001b[0m\u001b[0;34m)\u001b[0m\u001b[0;34m\u001b[0m\u001b[0;34m\u001b[0m\u001b[0m\n\u001b[0m\u001b[1;32m    416\u001b[0m         \u001b[0;32mexcept\u001b[0m \u001b[0mInterruptedError\u001b[0m\u001b[0;34m:\u001b[0m\u001b[0;34m\u001b[0m\u001b[0;34m\u001b[0m\u001b[0m\n\u001b[1;32m    417\u001b[0m             \u001b[0;32mreturn\u001b[0m \u001b[0mready\u001b[0m\u001b[0;34m\u001b[0m\u001b[0;34m\u001b[0m\u001b[0m\n",
      "\u001b[0;31mKeyboardInterrupt\u001b[0m: "
     ]
    }
   ],
   "source": [
    "best_model_wts = model.state_dict()\n",
    "best_acc = 0.0\n",
    "iteration = 0\n",
    "batch_size = 64\n",
    "model_name = 'madhuVmodel'\n",
    "output_path = '.'\n",
    "for epoch in range(15):\n",
    "    print('Epoch {}/{}'.format(epoch+1, 15))\n",
    "    print('-'*10)\n",
    "    model=model.train()\n",
    "    train_loss = 0.0\n",
    "    train_corrects = 0.0\n",
    "    val_loss = 0.0\n",
    "    val_corrects = 0.0\n",
    "    for (image, labels) in train_loader:\n",
    "        iter_loss = 0.0\n",
    "        iter_corrects = 0.0\n",
    "        image = image.cuda()\n",
    "        labels = labels.cuda()\n",
    "        optimizer.zero_grad()\n",
    "        outputs = model(image)\n",
    "        _, preds = torch.max(outputs.data, 1)\n",
    "        loss = criterion(outputs, labels)\n",
    "        loss.backward()\n",
    "        optimizer.step()\n",
    "        iter_loss = loss.data.item()\n",
    "        train_loss += iter_loss\n",
    "        iter_corrects = torch.sum(preds == labels.data)\n",
    "        train_corrects += iter_corrects\n",
    "        iteration += 1\n",
    "        if not (iteration % 20):\n",
    "            print('iteration {} train loss: {:.4f} Acc: {:.4f}'.format(iteration, iter_loss / batch_size, iter_corrects / batch_size))\n",
    "    epoch_loss = train_loss / train_dataset_size\n",
    "    epoch_acc = train_corrects.float() / train_dataset_size\n",
    "    save_acc['train'].append(epoch_loss)\n",
    "    save_acc['train'].append(epoch_acc)\n",
    "    print('epoch train loss: {:.4f} Acc: {:.4f}'.format(epoch_loss, epoch_acc))\n",
    "    \n",
    "    model.eval()\n",
    "    with torch.no_grad():\n",
    "        for (image, labels) in val_loader:\n",
    "            image = image.cuda()\n",
    "            labels = labels.cuda()\n",
    "            outputs = model(image)\n",
    "            _, preds = torch.max(outputs.data, 1)\n",
    "            loss = criterion(outputs, labels)\n",
    "            val_loss += loss.data.item()\n",
    "            val_corrects += torch.sum(preds == labels.data).to(torch.float32)\n",
    "        epoch_loss = val_loss / val_dataset_size\n",
    "        epoch_acc = val_corrects / val_dataset_size\n",
    "        save_loss['test'].append(epoch_loss)\n",
    "        save_acc['test'].append(epoch_acc)\n",
    "        print('epoch val loss: {:.4f} Acc: {:.4f}'.format(epoch_loss, epoch_acc))\n",
    "        if epoch_acc > best_acc:\n",
    "            best_acc = epoch_acc\n",
    "            best_model_wts = model.state_dict()\n",
    "        scheduler.step()\n",
    "        if not (epoch % 10):\n",
    "            torch.save(model.state_dict(), os.path.join(output_path, str(epoch) + '_' + model_name))\n",
    "print('Best val Acc: {:.4f}'.format(best_acc))\n",
    "model.load_state_dict(best_model_wts)\n",
    "torch.save(model.state_dict(), os.path.join(output_path, \"best.pkl\"))"
   ]
  },
  {
   "cell_type": "code",
   "execution_count": null,
   "metadata": {
    "id": "sjH1ve2TECW8"
   },
   "outputs": [],
   "source": [
    "from torchsummary import summary"
   ]
  },
  {
   "cell_type": "code",
   "execution_count": null,
   "metadata": {},
   "outputs": [],
   "source": [
    "print(summary(model))"
   ]
  },
  {
   "cell_type": "code",
   "execution_count": null,
   "metadata": {},
   "outputs": [],
   "source": [
    "torch.save(model.state_dict(), 'project2_model.pt')"
   ]
  },
  {
   "cell_type": "code",
   "execution_count": 8,
   "metadata": {},
   "outputs": [],
   "source": [
    "import matplotlib.pyplot as plt"
   ]
  },
  {
   "cell_type": "code",
   "execution_count": null,
   "metadata": {},
   "outputs": [],
   "source": [
    "print(save_acc['train'])\n",
    "print(len(save_loss))"
   ]
  },
  {
   "cell_type": "code",
   "execution_count": 17,
   "metadata": {},
   "outputs": [
    {
     "data": {
      "image/png": "[encoded data removed]",
      "text/plain": [
       "<Figure size 432x288 with 1 Axes>"
      ]
     },
     "metadata": {
      "needs_background": "light"
     },
     "output_type": "display_data"
    }
   ],
   "source": [
    "plt.plot(save_loss['train'])\n",
    "plt.plot(save_loss['test'])\n",
    "plt.legend([\"train\", \"test\"])\n",
    "plt.title(\"Loss\")\n",
    "plt.grid(True)"
   ]
  },
  {
   "cell_type": "code",
   "execution_count": 18,
   "metadata": {},
   "outputs": [
    {
     "data": {
      "text/plain": [
       "Text(0.5, 1.0, 'Accuracy')"
      ]
     },
     "execution_count": 18,
     "metadata": {},
     "output_type": "execute_result"
    },
    {
     "data": {
      "image/png": "[encoded data removed]",
      "text/plain": [
       "<Figure size 432x288 with 1 Axes>"
      ]
     },
     "metadata": {
      "needs_background": "light"
     },
     "output_type": "display_data"
    }
   ],
   "source": [
    "plt.plot(save_acc['train'])\n",
    "plt.plot(save_acc['test'])\n",
    "plt.legend([\"train\", \"test\"])\n",
    "plt.title(\"Accuracy\")"
   ]
  },
  {
   "cell_type": "code",
   "execution_count": 21,
   "metadata": {},
   "outputs": [],
   "source": [
    "y_test = []\n",
    "y_pred = []\n",
    "model.eval()\n",
    "with torch.no_grad():\n",
    "    for (image, labels) in val_loader:\n",
    "        image = image.cuda()\n",
    "        labels = labels.cuda()\n",
    "        outputs = model(image)\n",
    "        _, preds = torch.max(outputs.data, 1)\n",
    "        loss = criterion(outputs, labels)\n",
    "        val_loss += loss.data.item()\n",
    "        y_test+= [labels.data]\n",
    "        y_pred+=[preds]"
   ]
  },
  {
   "cell_type": "code",
   "execution_count": 22,
   "metadata": {},
   "outputs": [
    {
     "name": "stdout",
     "output_type": "stream",
     "text": [
      "67\n"
     ]
    }
   ],
   "source": [
    "print(len(y_test))"
   ]
  },
  {
   "cell_type": "code",
   "execution_count": 23,
   "metadata": {},
   "outputs": [
    {
     "name": "stdout",
     "output_type": "stream",
     "text": [
      "67\n"
     ]
    }
   ],
   "source": [
    "print(len(y_pred))"
   ]
  },
  {
   "cell_type": "code",
   "execution_count": null,
   "metadata": {},
   "outputs": [],
   "source": [
    "from sklearn import svm, datasets\n",
    "from sklearn import metrics\n",
    "from sklearn.linear_model import LogisticRegression\n",
    "from sklearn.model_selection import train_test_split\n",
    "from sklearn.datasets import load_breast_cancer"
   ]
  }
 ],
 "metadata": {
  "accelerator": "GPU",
  "colab": {
   "collapsed_sections": [],
   "name": "Mini_Project_2_3.ipynb",
   "provenance": []
  },
  "kernelspec": {
   "display_name": "Python 3",
   "language": "python",
   "name": "python3"
  },
  "language_info": {
   "codemirror_mode": {
    "name": "ipython",
    "version": 3
   },
   "file_extension": ".py",
   "mimetype": "text/x-python",
   "name": "python",
   "nbconvert_exporter": "python",
   "pygments_lexer": "ipython3",
   "version": "3.8.6"
  }
 },
 "nbformat": 4,
 "nbformat_minor": 1
}
